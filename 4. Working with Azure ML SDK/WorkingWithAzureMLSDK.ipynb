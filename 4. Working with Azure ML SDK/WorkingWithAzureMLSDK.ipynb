{
 "cells": [
  {
   "cell_type": "markdown",
   "source": [
    "# Working with Azure ML SDK"
   ],
   "metadata": {}
  },
  {
   "cell_type": "code",
   "execution_count": null,
   "source": [
    "import os\n",
    "import json\n",
    "\n",
    "from azureml.core.workspace import Workspace\n",
    "from azureml.core import Experiment\n",
    "from azureml.core import Environment\n",
    "\n",
    "from azureml.core.compute import ComputeTarget, AmlCompute"
   ],
   "outputs": [],
   "metadata": {}
  },
  {
   "cell_type": "code",
   "execution_count": null,
   "source": [
    "aml = {\n",
    "    'subscription_id': 'ENTER_YOUR_SUBSCRIPTION_ID_HERE',\n",
    "    'resource_group': 'ENTER_YOUR_RESOURCE_GROUP_NAME_HERE',\n",
    "    'workspace_name': 'ENTER_YOUR_WORKSPACE_NAME_HERE',\n",
    "}\n",
    "ws = Workspace(aml['subscription_id'], aml['resource_group'], aml['workspace_name'])\n",
    "ws.write_config()\n",
    "config = json.load(open(\"/\".join(['.azureml', 'config.json']), 'r'))\n",
    "print(config)"
   ],
   "outputs": [],
   "metadata": {}
  },
  {
   "cell_type": "code",
   "execution_count": null,
   "source": [
    "experiment_name = 'Demo-Pytorch-Lightning-on-MNIST'\n",
    "exp = Experiment(ws, experiment_name)"
   ],
   "outputs": [],
   "metadata": {}
  },
  {
   "cell_type": "code",
   "execution_count": null,
   "source": [
    "compute_name = os.environ.get(\"AML_COMPUTE_CLUSTER_NAME\", \"cpu-cluster\")\n",
    "compute_min_nodes = os.environ.get(\"AML_COMPUTE_CLUSTER_MIN_NODES\", 0)\n",
    "compute_max_nodes = os.environ.get(\"AML_COMPUTE_CLUSTER_MAX_NODES\", 4)\n",
    "vm_size = os.environ.get(\"AML_COMPUTE_CLUSTER_SKU\", \"STANDARD_D2_V2\")\n",
    "\n",
    "if compute_name in ws.compute_targets:\n",
    "    compute_target = ws.compute_targets[compute_name]\n",
    "    if compute_target and type(compute_target) is AmlCompute:\n",
    "        print('found compute target. just use it. ' + compute_name)\n",
    "else:\n",
    "    print('creating a new compute target...')\n",
    "    provisioning_config = AmlCompute.provisioning_configuration(vm_size=vm_size,\n",
    "                                                                min_nodes=compute_min_nodes,\n",
    "                                                                max_nodes=compute_max_nodes)\n",
    "\n",
    "    compute_target = ComputeTarget.create(ws, compute_name, provisioning_config)\n",
    "    compute_target.wait_for_completion(show_output=True, min_node_count=None, timeout_in_minutes=20)\n",
    "\n",
    "    print(compute_target.get_status().serialize())\n"
   ],
   "outputs": [],
   "metadata": {}
  },
  {
   "cell_type": "code",
   "execution_count": null,
   "source": [
    "from azureml.core.environment import Environment\n",
    "from azureml.core.conda_dependencies import CondaDependencies\n",
    "\n",
    "env = Environment('Demo-Environment-for-Pytorch-Lightning-on-MNIST')\n",
    "cd = CondaDependencies.create(\n",
    "    pip_packages=['azureml-dataset-runtime[pandas,fuse]', 'azureml-defaults'],\n",
    "    conda_packages=['pytorch-lightning']\n",
    ")\n",
    "\n",
    "env.python.conda_dependencies = cd\n",
    "\n",
    "env.register(workspace=ws)"
   ],
   "outputs": [],
   "metadata": {}
  },
  {
   "cell_type": "code",
   "execution_count": null,
   "source": [
    "from azureml.core import ScriptRunConfig\n",
    "\n",
    "args = [\"--max-epochs\", str(1), \"--adadelta-lr\", str(0.5)]\n",
    "\n",
    "src = ScriptRunConfig(source_directory=os.path.join(os.getcwd(), \"scripts\"),\n",
    "                      script='train.py', \n",
    "                      arguments=args,\n",
    "                      compute_target=compute_target,\n",
    "                      environment=env)"
   ],
   "outputs": [],
   "metadata": {}
  },
  {
   "cell_type": "code",
   "execution_count": null,
   "source": [
    "run = exp.submit(config=src)\n",
    "run"
   ],
   "outputs": [],
   "metadata": {}
  },
  {
   "cell_type": "code",
   "execution_count": null,
   "source": [
    "from azureml.widgets import RunDetails\n",
    "RunDetails(run).show()"
   ],
   "outputs": [],
   "metadata": {}
  },
  {
   "cell_type": "code",
   "execution_count": null,
   "source": [],
   "outputs": [],
   "metadata": {}
  }
 ],
 "metadata": {
  "orig_nbformat": 4,
  "kernelspec": {
   "name": "python3",
   "display_name": "Python 3.8.8 64-bit ('.venv': venv)"
  },
  "interpreter": {
   "hash": "25f3769e71b12380c452cceece7424527ec462e38c6967c090ca4d26aa391010"
  },
  "language_info": {
   "name": "python",
   "version": "3.8.8",
   "mimetype": "text/x-python",
   "codemirror_mode": {
    "name": "ipython",
    "version": 3
   },
   "pygments_lexer": "ipython3",
   "nbconvert_exporter": "python",
   "file_extension": ".py"
  }
 },
 "nbformat": 4,
 "nbformat_minor": 2
}